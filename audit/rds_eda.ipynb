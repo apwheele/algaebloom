{
 "cells": [
  {
   "cell_type": "code",
   "execution_count": 1,
   "metadata": {},
   "outputs": [],
   "source": [
    "import matplotlib.pyplot as plt\n",
    "import pandas as pd\n",
    "import geopandas as gpd\n",
    "from census import Census\n",
    "from us import states\n",
    "import os\n",
    "import numpy as np\n",
    "from tabulate import tabulate"
   ]
  },
  {
   "cell_type": "code",
   "execution_count": 2,
   "metadata": {},
   "outputs": [
    {
     "data": {
      "text/plain": [
       "['algae_pts_with_tracts.csv',\n",
       " 'data.sqlite',\n",
       " 'elevation_dem.csv',\n",
       " 'metadata.csv',\n",
       " 'sat.csv',\n",
       " 'spat_lag.csv',\n",
       " 'split_pred.csv',\n",
       " 'submission_format.csv',\n",
       " 'train_labels.csv']"
      ]
     },
     "execution_count": 2,
     "metadata": {},
     "output_type": "execute_result"
    }
   ],
   "source": [
    "# load all files in data folder\n",
    "files = os.listdir('../data')\n",
    "files"
   ]
  },
  {
   "cell_type": "code",
   "execution_count": 3,
   "metadata": {},
   "outputs": [],
   "source": [
    "# load all data\n",
    "train = pd.read_csv('../data/train_labels.csv')\n",
    "algae_acs = pd.read_csv('../data/algae_pts_with_tracts.csv')\n",
    "elevation_dem = pd.read_csv('../data/elevation_dem.csv')\n",
    "metadata = pd.read_csv('../data/metadata.csv')\n",
    "sat = pd.read_csv('../data/sat.csv')\n",
    "spat_lag = pd.read_csv('../data/spat_lag.csv')\n",
    "split_pred = pd.read_csv('../data/split_pred.csv')\n",
    "submission_fmt = pd.read_csv('../data/submission_format.csv')"
   ]
  },
  {
   "attachments": {},
   "cell_type": "markdown",
   "metadata": {},
   "source": [
    "### EDA for Training Data\n",
    "Notes from DrivenData:\n",
    "* severity (int): severity level based on the cyanobacteria density\n",
    "* density (float): raw measurement of total cyanobacteria density in cells per mL. Participants should submit predictions for severity level, NOT for the raw cell density value in cells per milliliter (mL). See the Submission format section."
   ]
  },
  {
   "cell_type": "code",
   "execution_count": 10,
   "metadata": {},
   "outputs": [
    {
     "name": "stdout",
     "output_type": "stream",
     "text": [
      "Train columns: ['uid' 'region' 'severity' 'density']\n"
     ]
    },
    {
     "data": {
      "image/png": "[encoded data removed]",
      "text/plain": [
       "<Figure size 640x480 with 3 Axes>"
      ]
     },
     "metadata": {},
     "output_type": "display_data"
    }
   ],
   "source": [
    "print(\"Train columns:\", train.columns.values)\n",
    "fig, axs = plt.subplots(3,1)\n",
    "axs[0].bar(train['region'].value_counts(normalize=True).index,\n",
    "           train['region'].value_counts(normalize=True))\n",
    "axs[1].bar(train['severity'].value_counts(normalize=True).index,\n",
    "            train['severity'].value_counts(normalize=True))\n",
    "axs[2].hist(train.loc[train['density'] < 2000, 'density'], bins=100, density=True)\n",
    "plt.savefig('../plots/train_labels_hist.png');"
   ]
  },
  {
   "cell_type": "code",
   "execution_count": 8,
   "metadata": {},
   "outputs": [
    {
     "name": "stderr",
     "output_type": "stream",
     "text": [
      "C:\\Users\\Jennah\\AppData\\Local\\Temp\\ipykernel_24040\\2189804198.py:1: FutureWarning: The default value of numeric_only in DataFrame.corr is deprecated. In a future version, it will default to False. Select only valid columns or specify the value of numeric_only to silence this warning.\n",
      "  train.corr()\n"
     ]
    },
    {
     "data": {
      "text/html": [
       "<div>\n",
       "<style scoped>\n",
       "    .dataframe tbody tr th:only-of-type {\n",
       "        vertical-align: middle;\n",
       "    }\n",
       "\n",
       "    .dataframe tbody tr th {\n",
       "        vertical-align: top;\n",
       "    }\n",
       "\n",
       "    .dataframe thead th {\n",
       "        text-align: right;\n",
       "    }\n",
       "</style>\n",
       "<table border=\"1\" class=\"dataframe\">\n",
       "  <thead>\n",
       "    <tr style=\"text-align: right;\">\n",
       "      <th></th>\n",
       "      <th>severity</th>\n",
       "      <th>density</th>\n",
       "    </tr>\n",
       "  </thead>\n",
       "  <tbody>\n",
       "    <tr>\n",
       "      <th>severity</th>\n",
       "      <td>1.000000</td>\n",
       "      <td>0.250221</td>\n",
       "    </tr>\n",
       "    <tr>\n",
       "      <th>density</th>\n",
       "      <td>0.250221</td>\n",
       "      <td>1.000000</td>\n",
       "    </tr>\n",
       "  </tbody>\n",
       "</table>\n",
       "</div>"
      ],
      "text/plain": [
       "          severity   density\n",
       "severity  1.000000  0.250221\n",
       "density   0.250221  1.000000"
      ]
     },
     "execution_count": 8,
     "metadata": {},
     "output_type": "execute_result"
    }
   ],
   "source": [
    "train.corr()"
   ]
  },
  {
   "cell_type": "code",
   "execution_count": 5,
   "metadata": {},
   "outputs": [
    {
     "data": {
      "text/plain": [
       "804667500.0"
      ]
     },
     "execution_count": 5,
     "metadata": {},
     "output_type": "execute_result"
    }
   ],
   "source": [
    "train.describe()\n",
    "train['density'].max()"
   ]
  },
  {
   "cell_type": "code",
   "execution_count": 6,
   "metadata": {},
   "outputs": [
    {
     "data": {
      "text/html": [
       "<div>\n",
       "<style scoped>\n",
       "    .dataframe tbody tr th:only-of-type {\n",
       "        vertical-align: middle;\n",
       "    }\n",
       "\n",
       "    .dataframe tbody tr th {\n",
       "        vertical-align: top;\n",
       "    }\n",
       "\n",
       "    .dataframe thead th {\n",
       "        text-align: right;\n",
       "    }\n",
       "</style>\n",
       "<table border=\"1\" class=\"dataframe\">\n",
       "  <thead>\n",
       "    <tr style=\"text-align: right;\">\n",
       "      <th></th>\n",
       "      <th>mean</th>\n",
       "      <th>median</th>\n",
       "      <th>min</th>\n",
       "      <th>max</th>\n",
       "    </tr>\n",
       "    <tr>\n",
       "      <th>severity</th>\n",
       "      <th></th>\n",
       "      <th></th>\n",
       "      <th></th>\n",
       "      <th></th>\n",
       "    </tr>\n",
       "  </thead>\n",
       "  <tbody>\n",
       "    <tr>\n",
       "      <th>1</th>\n",
       "      <td>5.261996e+03</td>\n",
       "      <td>3.112000e+03</td>\n",
       "      <td>0.0</td>\n",
       "      <td>19969.0</td>\n",
       "    </tr>\n",
       "    <tr>\n",
       "      <th>2</th>\n",
       "      <td>4.864041e+04</td>\n",
       "      <td>4.356800e+04</td>\n",
       "      <td>20000.0</td>\n",
       "      <td>99855.0</td>\n",
       "    </tr>\n",
       "    <tr>\n",
       "      <th>3</th>\n",
       "      <td>3.413736e+05</td>\n",
       "      <td>2.561820e+05</td>\n",
       "      <td>100000.0</td>\n",
       "      <td>996254.0</td>\n",
       "    </tr>\n",
       "    <tr>\n",
       "      <th>4</th>\n",
       "      <td>4.176759e+06</td>\n",
       "      <td>4.327500e+06</td>\n",
       "      <td>1002767.0</td>\n",
       "      <td>9960000.0</td>\n",
       "    </tr>\n",
       "    <tr>\n",
       "      <th>5</th>\n",
       "      <td>4.123169e+07</td>\n",
       "      <td>1.852253e+07</td>\n",
       "      <td>10025000.0</td>\n",
       "      <td>804667500.0</td>\n",
       "    </tr>\n",
       "  </tbody>\n",
       "</table>\n",
       "</div>"
      ],
      "text/plain": [
       "                  mean        median         min          max\n",
       "severity                                                     \n",
       "1         5.261996e+03  3.112000e+03         0.0      19969.0\n",
       "2         4.864041e+04  4.356800e+04     20000.0      99855.0\n",
       "3         3.413736e+05  2.561820e+05    100000.0     996254.0\n",
       "4         4.176759e+06  4.327500e+06   1002767.0    9960000.0\n",
       "5         4.123169e+07  1.852253e+07  10025000.0  804667500.0"
      ]
     },
     "execution_count": 6,
     "metadata": {},
     "output_type": "execute_result"
    }
   ],
   "source": [
    "train.groupby('severity')['density'].agg(['mean', 'median', 'min', 'max'])"
   ]
  },
  {
   "cell_type": "code",
   "execution_count": 7,
   "metadata": {},
   "outputs": [
    {
     "data": {
      "image/png": "[encoded data removed]",
      "text/plain": [
       "<Figure size 640x480 with 1 Axes>"
      ]
     },
     "metadata": {},
     "output_type": "display_data"
    }
   ],
   "source": [
    "train.groupby('severity')['density'].agg(lambda x: np.log(max(x))).plot.bar()\n",
    "plt.xticks(rotation=0)\n",
    "plt.ylabel('Maximum value of density (ln)')\n",
    "plt.savefig('../plots/max_density_severity.png')\n",
    "plt.show();"
   ]
  },
  {
   "cell_type": "code",
   "execution_count": 8,
   "metadata": {},
   "outputs": [
    {
     "data": {
      "image/png": "[encoded data removed]",
      "text/plain": [
       "<Figure size 640x480 with 1 Axes>"
      ]
     },
     "metadata": {},
     "output_type": "display_data"
    }
   ],
   "source": [
    "plt.boxplot([train.loc[train['severity']==x,'density'] for x in range(1,6)])\n",
    "plt.yscale('log')\n",
    "plt.xticks(rotation=0)\n",
    "plt.ylabel('Density')\n",
    "plt.xlabel('Severity')\n",
    "plt.savefig('../plots/max_density_severity_boxplot.png')\n",
    "plt.show();"
   ]
  },
  {
   "attachments": {},
   "cell_type": "markdown",
   "metadata": {},
   "source": [
    "**Important note from DrivenData:** \"Each geographic area is either entirely in the train set or entirely in the test set. This means that none of the test set locations are in the training data, so your model's performance will be measured on unseen locations.\"\n",
    "\n",
    "What should we consider to be severe?\n",
    "* From this [article](https://www.ncbi.nlm.nih.gov/pmc/articles/PMC4014740/#:~:text=In%20particular%2C%20Cyanobacteria%20may%20be,water%20and%20decreases%20its%20transparency): \"At times, the phenomenon is so obvious, that the naked eye can see the mass of microscopic algae, which produce blooms giving a particular coloring to the water body. The term “algal blooms” indicates a situation in which 80%–90% of the mass of microscopic algae consists of one or two species. In particular, Cyanobacteria may be considered as blooming when their cell number exceeds one million per liter. This coating of microscopic algae covers the surface of the water and decreases its transparency. This, in turn, prevents the penetration of sunlight, something that, coupled with the thermal stratification typical of reservoirs in the Mediterranean area, inevitably engenders conditions of anoxia and, hence, the above-mentioned consequence\"\n",
    "* Some background from this [article](https://www.nature.com/articles/s41598-019-54453-y): \"Cyanobacterial harmful algal blooms (cyanoHABs) are a serious environmental, water quality and public health issue worldwide because of their ability to form dense biomass and scum and to produce toxins such as neurotoxins (anatoxin-a), hepatotoxins (microcystins), and cytotoxins (cylindrospermospin)1. Cyanotoxins are capable of causing a wide variety of adverse human health issues including gastrointestinal distress, dermatitis, liver failure, or even death of domestic and livestock animals when they are exposed to water with toxins from intense cyanoHABs2,3. CyanoHABs are considered to be increasing globally over the past few decades although observations are quite limited4,5. The frequency and magnitude of these blooms are expected to worsen in the future with increased surface water temperatures and vertical stratification6. In addition, cyanoHAB growth and intensity are known to be affected by weather-driven environmental and anthropogenic factors, such as shifts in rainfall patterns with climatology and changing agricultural practices.\"\n",
    "    * \"Based on the [World Health Organization’s (WHO)](https://www.who.int/publications/m/item/toxic-cyanobacteria-in-water---second-edition) cell abundance threshold, three magnitude classes were considered for categorizing lakes as Low (≤20,000 cells mL−1), Moderate (20,000 ≤ cells mL−1 ≤ 100,000), and High (>100,000 cells mL−1) exposure health risk\""
   ]
  },
  {
   "cell_type": "code",
   "execution_count": 9,
   "metadata": {},
   "outputs": [
    {
     "name": "stdout",
     "output_type": "stream",
     "text": [
      "severity over 1,000,000: 0.21131301289566237\n",
      "severity over 100,000: 0.3705744431418523\n",
      "severity over 20,000: 0.5604923798358734\n"
     ]
    }
   ],
   "source": [
    "print(\"severity over 1,000,000:\", np.mean(train['density'] > 1000000))\n",
    "print(\"severity over 100,000:\", np.mean(train['density'] > 100000))\n",
    "print(\"severity over 20,000:\", np.mean(train['density'] > 20000))"
   ]
  },
  {
   "cell_type": "code",
   "execution_count": 10,
   "metadata": {},
   "outputs": [
    {
     "data": {
      "text/plain": [
       "high    0.560551\n",
       "low     0.439449\n",
       "Name: severity_bin, dtype: float64"
      ]
     },
     "execution_count": 10,
     "metadata": {},
     "output_type": "execute_result"
    }
   ],
   "source": [
    "train['severity_bin'] = np.where(train['density'] >= 20000, 'high', 'low')\n",
    "train['severity_bin'].value_counts(normalize=True)"
   ]
  },
  {
   "cell_type": "code",
   "execution_count": 11,
   "metadata": {},
   "outputs": [
    {
     "data": {
      "text/plain": [
       "severity_bin  severity\n",
       "low           1           0.439449\n",
       "high          4           0.207913\n",
       "              2           0.189859\n",
       "              3           0.159379\n",
       "              5           0.003400\n",
       "dtype: float64"
      ]
     },
     "execution_count": 11,
     "metadata": {},
     "output_type": "execute_result"
    }
   ],
   "source": [
    "train[['severity_bin','severity']].value_counts(normalize=True)\n",
    "# based on this I think we categorize high severity severity = 2, 3, 4, or 5"
   ]
  },
  {
   "cell_type": "code",
   "execution_count": 12,
   "metadata": {},
   "outputs": [
    {
     "data": {
      "text/plain": [
       "'\\\\begin{tabular}{llrr}\\n & severity_bin & severity & 0 \\\\\\\\\\n0 & low & 1 & 0.439449 \\\\\\\\\\n1 & high & 4 & 0.207913 \\\\\\\\\\n2 & high & 2 & 0.189859 \\\\\\\\\\n3 & high & 3 & 0.159379 \\\\\\\\\\n4 & high & 5 & 0.003400 \\\\\\\\\\n\\\\end{tabular}\\n'"
      ]
     },
     "execution_count": 12,
     "metadata": {},
     "output_type": "execute_result"
    }
   ],
   "source": [
    "train[['severity_bin','severity']].value_counts(normalize=True).reset_index().style.to_latex()"
   ]
  },
  {
   "cell_type": "code",
   "execution_count": 13,
   "metadata": {},
   "outputs": [
    {
     "data": {
      "text/html": [
       "<div>\n",
       "<style scoped>\n",
       "    .dataframe tbody tr th:only-of-type {\n",
       "        vertical-align: middle;\n",
       "    }\n",
       "\n",
       "    .dataframe tbody tr th {\n",
       "        vertical-align: top;\n",
       "    }\n",
       "\n",
       "    .dataframe thead th {\n",
       "        text-align: right;\n",
       "    }\n",
       "</style>\n",
       "<table border=\"1\" class=\"dataframe\">\n",
       "  <thead>\n",
       "    <tr style=\"text-align: right;\">\n",
       "      <th></th>\n",
       "      <th>region</th>\n",
       "      <th>severity_bin</th>\n",
       "      <th>count</th>\n",
       "      <th>total</th>\n",
       "      <th>pct</th>\n",
       "      <th>pct_total</th>\n",
       "    </tr>\n",
       "  </thead>\n",
       "  <tbody>\n",
       "    <tr>\n",
       "      <th>0</th>\n",
       "      <td>midwest</td>\n",
       "      <td>high</td>\n",
       "      <td>1419</td>\n",
       "      <td>2200</td>\n",
       "      <td>0.645000</td>\n",
       "      <td>0.041589</td>\n",
       "    </tr>\n",
       "    <tr>\n",
       "      <th>1</th>\n",
       "      <td>midwest</td>\n",
       "      <td>low</td>\n",
       "      <td>781</td>\n",
       "      <td>2200</td>\n",
       "      <td>0.355000</td>\n",
       "      <td>0.022890</td>\n",
       "    </tr>\n",
       "    <tr>\n",
       "      <th>2</th>\n",
       "      <td>northeast</td>\n",
       "      <td>high</td>\n",
       "      <td>587</td>\n",
       "      <td>1143</td>\n",
       "      <td>0.513561</td>\n",
       "      <td>0.017204</td>\n",
       "    </tr>\n",
       "    <tr>\n",
       "      <th>3</th>\n",
       "      <td>northeast</td>\n",
       "      <td>low</td>\n",
       "      <td>556</td>\n",
       "      <td>1143</td>\n",
       "      <td>0.486439</td>\n",
       "      <td>0.016295</td>\n",
       "    </tr>\n",
       "    <tr>\n",
       "      <th>4</th>\n",
       "      <td>south</td>\n",
       "      <td>high</td>\n",
       "      <td>3949</td>\n",
       "      <td>9948</td>\n",
       "      <td>0.396964</td>\n",
       "      <td>0.115739</td>\n",
       "    </tr>\n",
       "    <tr>\n",
       "      <th>5</th>\n",
       "      <td>south</td>\n",
       "      <td>low</td>\n",
       "      <td>5999</td>\n",
       "      <td>9948</td>\n",
       "      <td>0.603036</td>\n",
       "      <td>0.175821</td>\n",
       "    </tr>\n",
       "    <tr>\n",
       "      <th>6</th>\n",
       "      <td>west</td>\n",
       "      <td>high</td>\n",
       "      <td>3608</td>\n",
       "      <td>3769</td>\n",
       "      <td>0.957283</td>\n",
       "      <td>0.105744</td>\n",
       "    </tr>\n",
       "    <tr>\n",
       "      <th>7</th>\n",
       "      <td>west</td>\n",
       "      <td>low</td>\n",
       "      <td>161</td>\n",
       "      <td>3769</td>\n",
       "      <td>0.042717</td>\n",
       "      <td>0.004719</td>\n",
       "    </tr>\n",
       "  </tbody>\n",
       "</table>\n",
       "</div>"
      ],
      "text/plain": [
       "      region severity_bin  count  total       pct  pct_total\n",
       "0    midwest         high   1419   2200  0.645000   0.041589\n",
       "1    midwest          low    781   2200  0.355000   0.022890\n",
       "2  northeast         high    587   1143  0.513561   0.017204\n",
       "3  northeast          low    556   1143  0.486439   0.016295\n",
       "4      south         high   3949   9948  0.396964   0.115739\n",
       "5      south          low   5999   9948  0.603036   0.175821\n",
       "6       west         high   3608   3769  0.957283   0.105744\n",
       "7       west          low    161   3769  0.042717   0.004719"
      ]
     },
     "execution_count": 13,
     "metadata": {},
     "output_type": "execute_result"
    }
   ],
   "source": [
    "mgd_severity_counts = pd.merge(train[['region', 'severity_bin']].value_counts().reset_index(drop=False).sort_values(['region', 'severity_bin']).rename({0:'count'}, axis=1),\n",
    "         train['region'].value_counts().reset_index(drop=False).rename({'region':'total', 'index':'region'},axis=1),\n",
    "         on='region')\n",
    "mgd_severity_counts['pct'] = mgd_severity_counts['count']/mgd_severity_counts['total']\n",
    "mgd_severity_counts['pct_total'] = mgd_severity_counts['count']/sum(mgd_severity_counts['total'])\n",
    "mgd_severity_counts"
   ]
  },
  {
   "cell_type": "code",
   "execution_count": 14,
   "metadata": {},
   "outputs": [],
   "source": [
    "# would we want to evenly sample from each region?"
   ]
  },
  {
   "attachments": {},
   "cell_type": "markdown",
   "metadata": {},
   "source": [
    "### EDA for Metadata"
   ]
  },
  {
   "cell_type": "code",
   "execution_count": 15,
   "metadata": {},
   "outputs": [],
   "source": [
    "metadata_train = metadata.loc[metadata['split']=='train']\n",
    "assert len(metadata['uid'].unique()) == len(metadata['uid'])\n",
    "assert len(train['uid'].unique()) == len(train['uid'])\n",
    "assert len(train['uid']) == len(metadata_train['uid'])"
   ]
  },
  {
   "cell_type": "code",
   "execution_count": 16,
   "metadata": {},
   "outputs": [
    {
     "data": {
      "text/plain": [
       "uid           object\n",
       "latitude     float64\n",
       "longitude    float64\n",
       "date          object\n",
       "split         object\n",
       "dtype: object"
      ]
     },
     "execution_count": 16,
     "metadata": {},
     "output_type": "execute_result"
    }
   ],
   "source": [
    "metadata_train.dtypes"
   ]
  },
  {
   "cell_type": "code",
   "execution_count": 17,
   "metadata": {},
   "outputs": [
    {
     "name": "stdout",
     "output_type": "stream",
     "text": [
      "train    17060\n",
      "Name: split, dtype: int64\n"
     ]
    }
   ],
   "source": [
    "for col in metadata_train.columns.values:\n",
    "    if len(metadata_train[col].unique()) <= 10:\n",
    "        print(metadata_train[col].value_counts())"
   ]
  },
  {
   "cell_type": "code",
   "execution_count": 18,
   "metadata": {},
   "outputs": [
    {
     "name": "stderr",
     "output_type": "stream",
     "text": [
      "C:\\Users\\Jennah\\AppData\\Local\\Temp\\ipykernel_24728\\1191734935.py:2: SettingWithCopyWarning: \n",
      "A value is trying to be set on a copy of a slice from a DataFrame.\n",
      "Try using .loc[row_indexer,col_indexer] = value instead\n",
      "\n",
      "See the caveats in the documentation: https://pandas.pydata.org/pandas-docs/stable/user_guide/indexing.html#returning-a-view-versus-a-copy\n",
      "  metadata_train['date_fmt'] = pd.to_datetime(metadata_train['date'])\n",
      "C:\\Users\\Jennah\\AppData\\Local\\Temp\\ipykernel_24728\\1191734935.py:3: FutureWarning: Series.dt.weekofyear and Series.dt.week have been deprecated. Please use Series.dt.isocalendar().week instead.\n",
      "  metadata_train['date_fmt'].dt.week.value_counts().sort_index().plot(\n"
     ]
    },
    {
     "data": {
      "image/png": "[encoded data removed]",
      "text/plain": [
       "<Figure size 640x480 with 1 Axes>"
      ]
     },
     "metadata": {},
     "output_type": "display_data"
    }
   ],
   "source": [
    "#metadata_train['date'].plot()\n",
    "metadata_train['date_fmt'] = pd.to_datetime(metadata_train['date'])\n",
    "metadata_train['date_fmt'].dt.week.value_counts().sort_index().plot(\n",
    "    rot=45\n",
    ")\n",
    "plt.show();"
   ]
  },
  {
   "cell_type": "code",
   "execution_count": 38,
   "metadata": {},
   "outputs": [
    {
     "data": {
      "text/plain": [
       "array(['midwest', 'south', 'west', 'northeast'], dtype=object)"
      ]
     },
     "execution_count": 38,
     "metadata": {},
     "output_type": "execute_result"
    }
   ],
   "source": [
    "metadata_train_plot_df = pd.merge(train, metadata_train, on = \"uid\")\n",
    "metadata_train_plot_df['region'].unique()"
   ]
  },
  {
   "cell_type": "code",
   "execution_count": 39,
   "metadata": {},
   "outputs": [
    {
     "data": {
      "image/png": "[encoded data removed]",
      "text/plain": [
       "<Figure size 640x480 with 1 Axes>"
      ]
     },
     "metadata": {},
     "output_type": "display_data"
    }
   ],
   "source": [
    "metadata_train_plot_df['date_fmt'].dt.year.value_counts().sort_index().plot(\n",
    "    rot=45, label = 'overall'\n",
    ")\n",
    "metadata_train_plot_df.loc[metadata_train_plot_df['severity_bin'] == 'high',\n",
    "                           'date_fmt'].dt.year.value_counts().sort_index().plot(\n",
    "    label = 'high severity'\n",
    ")\n",
    "metadata_train_plot_df.loc[metadata_train_plot_df['region'] == 'midwest',\n",
    "                           'date_fmt'].dt.year.value_counts().sort_index().plot(\n",
    "    label = 'midwest'\n",
    ")\n",
    "metadata_train_plot_df.loc[metadata_train_plot_df['region'] == 'northeast',\n",
    "                           'date_fmt'].dt.year.value_counts().sort_index().plot(\n",
    "    label = 'northeast'\n",
    ")\n",
    "metadata_train_plot_df.loc[metadata_train_plot_df['region'] == 'south',\n",
    "                           'date_fmt'].dt.year.value_counts().sort_index().plot(\n",
    "    label = 'south'\n",
    ")\n",
    "metadata_train_plot_df.loc[metadata_train_plot_df['region'] == 'west',\n",
    "                           'date_fmt'].dt.year.value_counts().sort_index().plot(\n",
    "    label = 'west'\n",
    ")\n",
    "plt.ylim(0,2600)\n",
    "plt.ylabel('Number of observations')\n",
    "plt.xlabel('Year')\n",
    "plt.legend()\n",
    "plt.savefig('../plots/timeseries_year.png')\n",
    "plt.show();"
   ]
  },
  {
   "attachments": {},
   "cell_type": "markdown",
   "metadata": {},
   "source": [
    "We could also do a time-based sampling? For example, sample from more recent years."
   ]
  },
  {
   "attachments": {},
   "cell_type": "markdown",
   "metadata": {},
   "source": [
    "### EDA for submission"
   ]
  },
  {
   "cell_type": "code",
   "execution_count": 156,
   "metadata": {},
   "outputs": [
    {
     "data": {
      "text/html": [
       "<div>\n",
       "<style scoped>\n",
       "    .dataframe tbody tr th:only-of-type {\n",
       "        vertical-align: middle;\n",
       "    }\n",
       "\n",
       "    .dataframe tbody tr th {\n",
       "        vertical-align: top;\n",
       "    }\n",
       "\n",
       "    .dataframe thead th {\n",
       "        text-align: right;\n",
       "    }\n",
       "</style>\n",
       "<table border=\"1\" class=\"dataframe\">\n",
       "  <thead>\n",
       "    <tr style=\"text-align: right;\">\n",
       "      <th></th>\n",
       "      <th>uid</th>\n",
       "      <th>region</th>\n",
       "      <th>severity</th>\n",
       "    </tr>\n",
       "  </thead>\n",
       "  <tbody>\n",
       "    <tr>\n",
       "      <th>0</th>\n",
       "      <td>aabn</td>\n",
       "      <td>west</td>\n",
       "      <td>1</td>\n",
       "    </tr>\n",
       "    <tr>\n",
       "      <th>1</th>\n",
       "      <td>aair</td>\n",
       "      <td>west</td>\n",
       "      <td>1</td>\n",
       "    </tr>\n",
       "    <tr>\n",
       "      <th>2</th>\n",
       "      <td>aajw</td>\n",
       "      <td>northeast</td>\n",
       "      <td>1</td>\n",
       "    </tr>\n",
       "    <tr>\n",
       "      <th>3</th>\n",
       "      <td>aalr</td>\n",
       "      <td>midwest</td>\n",
       "      <td>1</td>\n",
       "    </tr>\n",
       "    <tr>\n",
       "      <th>4</th>\n",
       "      <td>aalw</td>\n",
       "      <td>west</td>\n",
       "      <td>1</td>\n",
       "    </tr>\n",
       "    <tr>\n",
       "      <th>...</th>\n",
       "      <td>...</td>\n",
       "      <td>...</td>\n",
       "      <td>...</td>\n",
       "    </tr>\n",
       "    <tr>\n",
       "      <th>6505</th>\n",
       "      <td>zzpn</td>\n",
       "      <td>northeast</td>\n",
       "      <td>1</td>\n",
       "    </tr>\n",
       "    <tr>\n",
       "      <th>6506</th>\n",
       "      <td>zzrv</td>\n",
       "      <td>west</td>\n",
       "      <td>1</td>\n",
       "    </tr>\n",
       "    <tr>\n",
       "      <th>6507</th>\n",
       "      <td>zzsx</td>\n",
       "      <td>south</td>\n",
       "      <td>1</td>\n",
       "    </tr>\n",
       "    <tr>\n",
       "      <th>6508</th>\n",
       "      <td>zzvv</td>\n",
       "      <td>west</td>\n",
       "      <td>1</td>\n",
       "    </tr>\n",
       "    <tr>\n",
       "      <th>6509</th>\n",
       "      <td>zzzi</td>\n",
       "      <td>midwest</td>\n",
       "      <td>1</td>\n",
       "    </tr>\n",
       "  </tbody>\n",
       "</table>\n",
       "<p>6510 rows × 3 columns</p>\n",
       "</div>"
      ],
      "text/plain": [
       "       uid     region  severity\n",
       "0     aabn       west         1\n",
       "1     aair       west         1\n",
       "2     aajw  northeast         1\n",
       "3     aalr    midwest         1\n",
       "4     aalw       west         1\n",
       "...    ...        ...       ...\n",
       "6505  zzpn  northeast         1\n",
       "6506  zzrv       west         1\n",
       "6507  zzsx      south         1\n",
       "6508  zzvv       west         1\n",
       "6509  zzzi    midwest         1\n",
       "\n",
       "[6510 rows x 3 columns]"
      ]
     },
     "execution_count": 156,
     "metadata": {},
     "output_type": "execute_result"
    }
   ],
   "source": [
    "assert submission_fmt.shape[0] == metadata.loc[metadata['split']=='test'].shape[0]\n",
    "submission_fmt"
   ]
  },
  {
   "cell_type": "code",
   "execution_count": 157,
   "metadata": {},
   "outputs": [
    {
     "data": {
      "text/plain": [
       "array([1], dtype=int64)"
      ]
     },
     "execution_count": 157,
     "metadata": {},
     "output_type": "execute_result"
    }
   ],
   "source": [
    "submission_fmt['severity'].unique()"
   ]
  },
  {
   "cell_type": "code",
   "execution_count": 158,
   "metadata": {},
   "outputs": [
    {
     "data": {
      "text/plain": [
       "west         0.366667\n",
       "midwest      0.240399\n",
       "south        0.232104\n",
       "northeast    0.160829\n",
       "Name: region, dtype: float64"
      ]
     },
     "execution_count": 158,
     "metadata": {},
     "output_type": "execute_result"
    }
   ],
   "source": [
    "submission_fmt['region'].value_counts(normalize=True)"
   ]
  },
  {
   "attachments": {},
   "cell_type": "markdown",
   "metadata": {},
   "source": [
    "### EDA for elevation"
   ]
  },
  {
   "cell_type": "code",
   "execution_count": 200,
   "metadata": {},
   "outputs": [
    {
     "data": {
      "text/html": [
       "<div>\n",
       "<style scoped>\n",
       "    .dataframe tbody tr th:only-of-type {\n",
       "        vertical-align: middle;\n",
       "    }\n",
       "\n",
       "    .dataframe tbody tr th {\n",
       "        vertical-align: top;\n",
       "    }\n",
       "\n",
       "    .dataframe thead th {\n",
       "        text-align: right;\n",
       "    }\n",
       "</style>\n",
       "<table border=\"1\" class=\"dataframe\">\n",
       "  <thead>\n",
       "    <tr style=\"text-align: right;\">\n",
       "      <th></th>\n",
       "      <th>latitude</th>\n",
       "      <th>longitude</th>\n",
       "      <th>box</th>\n",
       "      <th>elevation</th>\n",
       "      <th>mine</th>\n",
       "      <th>maxe</th>\n",
       "      <th>dife</th>\n",
       "      <th>avge</th>\n",
       "      <th>stde</th>\n",
       "      <th>uid</th>\n",
       "      <th>DateTime</th>\n",
       "    </tr>\n",
       "  </thead>\n",
       "  <tbody>\n",
       "    <tr>\n",
       "      <th>0</th>\n",
       "      <td>35.980000</td>\n",
       "      <td>-78.840901</td>\n",
       "      <td>1000</td>\n",
       "      <td>101.566254</td>\n",
       "      <td>87.542809</td>\n",
       "      <td>130.299011</td>\n",
       "      <td>42.756203</td>\n",
       "      <td>107.346771</td>\n",
       "      <td>8.125100</td>\n",
       "      <td>fvyy</td>\n",
       "      <td>2022-12-22 14:33:31.710640+00:00</td>\n",
       "    </tr>\n",
       "    <tr>\n",
       "      <th>1</th>\n",
       "      <td>37.660000</td>\n",
       "      <td>-120.875000</td>\n",
       "      <td>1000</td>\n",
       "      <td>33.648495</td>\n",
       "      <td>26.232449</td>\n",
       "      <td>47.663738</td>\n",
       "      <td>21.431290</td>\n",
       "      <td>38.601562</td>\n",
       "      <td>3.300400</td>\n",
       "      <td>xvyt</td>\n",
       "      <td>2022-12-22 14:33:31.710640+00:00</td>\n",
       "    </tr>\n",
       "    <tr>\n",
       "      <th>2</th>\n",
       "      <td>36.130000</td>\n",
       "      <td>-79.067917</td>\n",
       "      <td>1000</td>\n",
       "      <td>187.980103</td>\n",
       "      <td>159.908417</td>\n",
       "      <td>225.662064</td>\n",
       "      <td>65.753647</td>\n",
       "      <td>196.376556</td>\n",
       "      <td>9.686280</td>\n",
       "      <td>gfrm</td>\n",
       "      <td>2022-12-22 14:33:31.710640+00:00</td>\n",
       "    </tr>\n",
       "    <tr>\n",
       "      <th>3</th>\n",
       "      <td>35.742000</td>\n",
       "      <td>-79.224930</td>\n",
       "      <td>1000</td>\n",
       "      <td>140.991028</td>\n",
       "      <td>127.858162</td>\n",
       "      <td>191.056915</td>\n",
       "      <td>63.198753</td>\n",
       "      <td>155.453690</td>\n",
       "      <td>10.969849</td>\n",
       "      <td>zmbr</td>\n",
       "      <td>2022-12-22 14:33:31.710640+00:00</td>\n",
       "    </tr>\n",
       "    <tr>\n",
       "      <th>4</th>\n",
       "      <td>35.790000</td>\n",
       "      <td>-79.031929</td>\n",
       "      <td>1000</td>\n",
       "      <td>107.646332</td>\n",
       "      <td>62.625713</td>\n",
       "      <td>146.481781</td>\n",
       "      <td>83.856064</td>\n",
       "      <td>94.722862</td>\n",
       "      <td>25.895313</td>\n",
       "      <td>bpvi</td>\n",
       "      <td>2022-12-22 14:33:31.710640+00:00</td>\n",
       "    </tr>\n",
       "    <tr>\n",
       "      <th>...</th>\n",
       "      <td>...</td>\n",
       "      <td>...</td>\n",
       "      <td>...</td>\n",
       "      <td>...</td>\n",
       "      <td>...</td>\n",
       "      <td>...</td>\n",
       "      <td>...</td>\n",
       "      <td>...</td>\n",
       "      <td>...</td>\n",
       "      <td>...</td>\n",
       "      <td>...</td>\n",
       "    </tr>\n",
       "    <tr>\n",
       "      <th>23565</th>\n",
       "      <td>39.792190</td>\n",
       "      <td>-99.971050</td>\n",
       "      <td>1000</td>\n",
       "      <td>697.500000</td>\n",
       "      <td>697.500000</td>\n",
       "      <td>732.066223</td>\n",
       "      <td>34.566223</td>\n",
       "      <td>702.116211</td>\n",
       "      <td>5.649322</td>\n",
       "      <td>zzwo</td>\n",
       "      <td>2022-12-22 14:33:31.710640+00:00</td>\n",
       "    </tr>\n",
       "    <tr>\n",
       "      <th>23566</th>\n",
       "      <td>35.794000</td>\n",
       "      <td>-79.012551</td>\n",
       "      <td>1000</td>\n",
       "      <td>64.000000</td>\n",
       "      <td>64.000000</td>\n",
       "      <td>104.038414</td>\n",
       "      <td>40.038414</td>\n",
       "      <td>67.490509</td>\n",
       "      <td>7.727036</td>\n",
       "      <td>zzwq</td>\n",
       "      <td>2022-12-22 14:33:31.710640+00:00</td>\n",
       "    </tr>\n",
       "    <tr>\n",
       "      <th>23567</th>\n",
       "      <td>35.742000</td>\n",
       "      <td>-79.238600</td>\n",
       "      <td>1000</td>\n",
       "      <td>164.907166</td>\n",
       "      <td>133.443787</td>\n",
       "      <td>191.056915</td>\n",
       "      <td>57.613129</td>\n",
       "      <td>160.309174</td>\n",
       "      <td>8.871887</td>\n",
       "      <td>zzyb</td>\n",
       "      <td>2022-12-22 14:33:31.710640+00:00</td>\n",
       "    </tr>\n",
       "    <tr>\n",
       "      <th>23568</th>\n",
       "      <td>39.767323</td>\n",
       "      <td>-96.028617</td>\n",
       "      <td>1000</td>\n",
       "      <td>350.000000</td>\n",
       "      <td>345.187805</td>\n",
       "      <td>388.496033</td>\n",
       "      <td>43.308228</td>\n",
       "      <td>363.472412</td>\n",
       "      <td>9.798910</td>\n",
       "      <td>zzzi</td>\n",
       "      <td>2022-12-22 14:33:31.710640+00:00</td>\n",
       "    </tr>\n",
       "    <tr>\n",
       "      <th>23569</th>\n",
       "      <td>41.141242</td>\n",
       "      <td>-81.161385</td>\n",
       "      <td>1000</td>\n",
       "      <td>297.000000</td>\n",
       "      <td>297.000000</td>\n",
       "      <td>345.314209</td>\n",
       "      <td>48.314209</td>\n",
       "      <td>307.708740</td>\n",
       "      <td>12.062282</td>\n",
       "      <td>kfau</td>\n",
       "      <td>2022-12-22 14:33:31.710640+00:00</td>\n",
       "    </tr>\n",
       "  </tbody>\n",
       "</table>\n",
       "<p>23570 rows × 11 columns</p>\n",
       "</div>"
      ],
      "text/plain": [
       "        latitude   longitude   box   elevation        mine        maxe  \\\n",
       "0      35.980000  -78.840901  1000  101.566254   87.542809  130.299011   \n",
       "1      37.660000 -120.875000  1000   33.648495   26.232449   47.663738   \n",
       "2      36.130000  -79.067917  1000  187.980103  159.908417  225.662064   \n",
       "3      35.742000  -79.224930  1000  140.991028  127.858162  191.056915   \n",
       "4      35.790000  -79.031929  1000  107.646332   62.625713  146.481781   \n",
       "...          ...         ...   ...         ...         ...         ...   \n",
       "23565  39.792190  -99.971050  1000  697.500000  697.500000  732.066223   \n",
       "23566  35.794000  -79.012551  1000   64.000000   64.000000  104.038414   \n",
       "23567  35.742000  -79.238600  1000  164.907166  133.443787  191.056915   \n",
       "23568  39.767323  -96.028617  1000  350.000000  345.187805  388.496033   \n",
       "23569  41.141242  -81.161385  1000  297.000000  297.000000  345.314209   \n",
       "\n",
       "            dife        avge       stde   uid  \\\n",
       "0      42.756203  107.346771   8.125100  fvyy   \n",
       "1      21.431290   38.601562   3.300400  xvyt   \n",
       "2      65.753647  196.376556   9.686280  gfrm   \n",
       "3      63.198753  155.453690  10.969849  zmbr   \n",
       "4      83.856064   94.722862  25.895313  bpvi   \n",
       "...          ...         ...        ...   ...   \n",
       "23565  34.566223  702.116211   5.649322  zzwo   \n",
       "23566  40.038414   67.490509   7.727036  zzwq   \n",
       "23567  57.613129  160.309174   8.871887  zzyb   \n",
       "23568  43.308228  363.472412   9.798910  zzzi   \n",
       "23569  48.314209  307.708740  12.062282  kfau   \n",
       "\n",
       "                               DateTime  \n",
       "0      2022-12-22 14:33:31.710640+00:00  \n",
       "1      2022-12-22 14:33:31.710640+00:00  \n",
       "2      2022-12-22 14:33:31.710640+00:00  \n",
       "3      2022-12-22 14:33:31.710640+00:00  \n",
       "4      2022-12-22 14:33:31.710640+00:00  \n",
       "...                                 ...  \n",
       "23565  2022-12-22 14:33:31.710640+00:00  \n",
       "23566  2022-12-22 14:33:31.710640+00:00  \n",
       "23567  2022-12-22 14:33:31.710640+00:00  \n",
       "23568  2022-12-22 14:33:31.710640+00:00  \n",
       "23569  2022-12-22 14:33:31.710640+00:00  \n",
       "\n",
       "[23570 rows x 11 columns]"
      ]
     },
     "execution_count": 200,
     "metadata": {},
     "output_type": "execute_result"
    }
   ],
   "source": [
    "elevation_dem"
   ]
  },
  {
   "cell_type": "code",
   "execution_count": 207,
   "metadata": {},
   "outputs": [
    {
     "name": "stdout",
     "output_type": "stream",
     "text": [
      "1000    23570\n",
      "Name: box, dtype: int64\n",
      "2022-12-22 14:33:31.710640+00:00    23570\n",
      "Name: DateTime, dtype: int64\n"
     ]
    }
   ],
   "source": [
    "for col in elevation_dem.columns:\n",
    "    if len(elevation_dem[col].unique()) <= 10:\n",
    "        print(elevation_dem[col].value_counts())"
   ]
  },
  {
   "cell_type": "code",
   "execution_count": 206,
   "metadata": {},
   "outputs": [
    {
     "data": {
      "text/plain": [
       "latitude     float64\n",
       "longitude    float64\n",
       "box            int64\n",
       "elevation    float64\n",
       "mine         float64\n",
       "maxe         float64\n",
       "dife         float64\n",
       "avge         float64\n",
       "stde         float64\n",
       "uid           object\n",
       "DateTime      object\n",
       "dtype: object"
      ]
     },
     "execution_count": 206,
     "metadata": {},
     "output_type": "execute_result"
    }
   ],
   "source": [
    "elevation_dem.dtypes"
   ]
  },
  {
   "cell_type": "code",
   "execution_count": null,
   "metadata": {},
   "outputs": [],
   "source": []
  }
 ],
 "metadata": {
  "kernelspec": {
   "display_name": "bloom",
   "language": "python",
   "name": "python3"
  },
  "language_info": {
   "codemirror_mode": {
    "name": "ipython",
    "version": 3
   },
   "file_extension": ".py",
   "mimetype": "text/x-python",
   "name": "python",
   "nbconvert_exporter": "python",
   "pygments_lexer": "ipython3",
   "version": "3.9.16"
  },
  "orig_nbformat": 4
 },
 "nbformat": 4,
 "nbformat_minor": 2
}
